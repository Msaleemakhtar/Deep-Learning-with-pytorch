{
  "nbformat": 4,
  "nbformat_minor": 0,
  "metadata": {
    "colab": {
      "provenance": [],
      "gpuType": "T4",
      "authorship_tag": "ABX9TyPQEeiyyWqppOF7P5d3CIZQ",
      "include_colab_link": true
    },
    "kernelspec": {
      "name": "python3",
      "display_name": "Python 3"
    },
    "language_info": {
      "name": "python"
    },
    "accelerator": "GPU"
  },
  "cells": [
    {
      "cell_type": "markdown",
      "metadata": {
        "id": "view-in-github",
        "colab_type": "text"
      },
      "source": [
        "<a href=\"https://colab.research.google.com/github/Msaleemakhtar/Deep-Learning-with-pytorch/blob/main/03_pytorch_flow.ipynb\" target=\"_parent\"><img src=\"https://colab.research.google.com/assets/colab-badge.svg\" alt=\"Open In Colab\"/></a>"
      ]
    },
    {
      "cell_type": "markdown",
      "source": [
        "# BASIC WORK FLOW OF PYTORCH\n",
        "\n",
        "### Device agnostic code"
      ],
      "metadata": {
        "id": "MqJSx4s9HP1B"
      }
    },
    {
      "cell_type": "code",
      "source": [
        "import torch\n",
        "from torch import nn\n",
        "import numpy as np\n",
        "import matplotlib.pyplot as plt\n",
        "torch.__version__"
      ],
      "metadata": {
        "colab": {
          "base_uri": "https://localhost:8080/",
          "height": 36
        },
        "id": "qHgeVA9BHXDO",
        "outputId": "7db561e6-b510-4f94-939d-9b5e3f5636ff"
      },
      "execution_count": 26,
      "outputs": [
        {
          "output_type": "execute_result",
          "data": {
            "text/plain": [
              "'2.2.1+cu121'"
            ],
            "application/vnd.google.colaboratory.intrinsic+json": {
              "type": "string"
            }
          },
          "metadata": {},
          "execution_count": 26
        }
      ]
    },
    {
      "cell_type": "code",
      "source": [
        "# device agnostic code\n",
        "\n",
        "device = \"cuda\" if torch.cuda.is_available() else \"cpu\"\n",
        "print(f\"Using current device : {device}\")\n"
      ],
      "metadata": {
        "colab": {
          "base_uri": "https://localhost:8080/"
        },
        "id": "NP6UvW4kIIvD",
        "outputId": "deee2faa-d123-4b5e-9bba-9651a802539b"
      },
      "execution_count": 27,
      "outputs": [
        {
          "output_type": "stream",
          "name": "stdout",
          "text": [
            "Using current device : cpu\n"
          ]
        }
      ]
    },
    {
      "cell_type": "code",
      "source": [
        "# create the known parameters\n",
        "weight = 0.7\n",
        "bias = 0.3\n",
        "\n",
        "# create the range\n",
        "start =0\n",
        "stop=1\n",
        "step=0.02\n",
        "# create tensors\n",
        "X = torch.arange(start,stop, step).unsqueeze(dim=1)\n",
        "y = weight*X + bias"
      ],
      "metadata": {
        "id": "sdY10h8JIlCj"
      },
      "execution_count": 28,
      "outputs": []
    },
    {
      "cell_type": "code",
      "source": [
        "#  split the data for training and testing\n",
        "split_data = int(0.8 *len(X))\n",
        "X_train, y_train = X[:split_data], y[:split_data]\n",
        "X_test, y_test = X[split_data:], y[split_data:]\n",
        "len(X_train), len(y_train), len(X_test), len(y_test)"
      ],
      "metadata": {
        "colab": {
          "base_uri": "https://localhost:8080/"
        },
        "id": "IvAuyJXZKUG5",
        "outputId": "bbfcbf54-3c7d-467d-b447-85ab8e354ca8"
      },
      "execution_count": 29,
      "outputs": [
        {
          "output_type": "execute_result",
          "data": {
            "text/plain": [
              "(40, 40, 10, 10)"
            ]
          },
          "metadata": {},
          "execution_count": 29
        }
      ]
    },
    {
      "cell_type": "code",
      "source": [
        "# plot the data\n",
        "def plot_predictions(train_data=X_train,\n",
        "                     train_labels=y_train,\n",
        "                     test_data=X_test,\n",
        "                     test_labels=y_test,\n",
        "                     predictions=None):\n",
        "\n",
        "  plt.scatter(train_data, train_labels, c=\"r\", s=4, label = \"Training data\")\n",
        "  plt.scatter(test_data, test_labels, c=\"g\", s=4, label= \"Testing data\")\n",
        "\n",
        "  if predictions is not None:\n",
        "    plt.scatter(test_data, predictions, c=\"b\", s=4 , label= \"predictions\")\n",
        "\n",
        "\n",
        "  plt.legend(prop={\"size\":14})\n"
      ],
      "metadata": {
        "id": "MrqXI77ZKnGb"
      },
      "execution_count": 30,
      "outputs": []
    },
    {
      "cell_type": "code",
      "source": [
        "plot_predictions()"
      ],
      "metadata": {
        "colab": {
          "base_uri": "https://localhost:8080/",
          "height": 430
        },
        "id": "qz9ZJAiLN7Fd",
        "outputId": "07171bc8-7208-4743-cecc-b5648b34dc09"
      },
      "execution_count": 31,
      "outputs": [
        {
          "output_type": "display_data",
          "data": {
            "text/plain": [
              "<Figure size 640x480 with 1 Axes>"
            ],
            "image/png": "[encoded data removed]"
          },
          "metadata": {}
        }
      ]
    },
    {
      "cell_type": "code",
      "source": [
        "# Build the Model\n",
        "class LinearRegressionModel_1(nn.Module):\n",
        "  def __init__(self):\n",
        "    super().__init__()\n",
        "\n",
        "    # create the linear layer for Model parameter initialization\n",
        "    self.linear_layer = nn.Linear(in_features=1, out_features=1)\n",
        "\n",
        "  # forward propogation for prediction on input features and random intialization of model parameters\n",
        "  def forward(self, x:torch.Tensor)->torch.Tensor:\n",
        "    return self.linear_layer(x)\n",
        "\n",
        "torch.manual_seed(33)\n",
        "model_0 = LinearRegressionModel_1()\n",
        "model_0.state_dict()"
      ],
      "metadata": {
        "colab": {
          "base_uri": "https://localhost:8080/"
        },
        "id": "aR6i-ZohN-28",
        "outputId": "8ffe5f83-330c-4dbd-92a7-61f70b5aaa23"
      },
      "execution_count": 32,
      "outputs": [
        {
          "output_type": "execute_result",
          "data": {
            "text/plain": [
              "OrderedDict([('linear_layer.weight', tensor([[0.2372]])),\n",
              "             ('linear_layer.bias', tensor([0.1175]))])"
            ]
          },
          "metadata": {},
          "execution_count": 32
        }
      ]
    },
    {
      "cell_type": "code",
      "source": [
        "# set the loss function\n",
        "loss_fn = nn.L1Loss()\n",
        "\n",
        "# set the optimizor\n",
        "optimizor = torch.optim.SGD(params=model_0.parameters(), lr=0.01)"
      ],
      "metadata": {
        "id": "FNtRHACnf7g1"
      },
      "execution_count": 33,
      "outputs": []
    },
    {
      "cell_type": "code",
      "source": [
        "# Train  and Evaluate the Model\n",
        "\n",
        "torch.manual_seed(44)\n",
        "\n",
        "epochs = 150\n",
        "\n",
        "# Put data on the available device\n",
        "# Without this, error will happen (not all model/data on device)\n",
        "X_train = X_train.to(device)\n",
        "X_test = X_test.to(device)\n",
        "y_train = y_train.to(device)\n",
        "y_test = y_test.to(device)\n",
        "\n",
        "epoch_count = []\n",
        "train_loss_values= []\n",
        "test_loss_values = []\n",
        "for epoch in range(epochs):\n",
        "  # set thre model in traing mode\n",
        "  model_0.train()\n",
        "\n",
        "  #1. forward propogation on traing data\n",
        "  y_pred = model_0(X_train)\n",
        "\n",
        "  # 2. calculate the loss\n",
        "  loss = loss_fn(y_pred, y_train)\n",
        "\n",
        "  # 3. set the zero grad\n",
        "  optimizor.zero_grad()\n",
        "\n",
        "  # 4. backpropogation to calculate the gradients of loss function with repect to model parameters\n",
        "  loss.backward()\n",
        "\n",
        "  # 5.progress the optimizor(update the parameters)\n",
        "  optimizor.step()\n",
        "\n",
        "  # Testing the Model\n",
        "\n",
        "  # put the model in evaluation mode\n",
        "  model_0.eval()\n",
        "\n",
        "  # set the context manager for inference with no grad\n",
        "  with torch.inference_mode():\n",
        "\n",
        "    test_pred = model_0(X_test)\n",
        "    # calculate the loss on test data\n",
        "    test_loss = loss_fn(test_pred,y_test )\n",
        "\n",
        "  # Visualize the loss\n",
        "  if epoch % 20 == 0:\n",
        "    epoch_count.append(epoch)\n",
        "    train_loss_values.append(loss.detach().numpy())\n",
        "    test_loss_values.append(test_loss.detach().numpy())\n",
        "\n",
        "    print(f\"Epoch : {epoch} | loss : {loss} | test_loss : {test_loss}\")"
      ],
      "metadata": {
        "id": "VPNwBt0RSCbg",
        "colab": {
          "base_uri": "https://localhost:8080/"
        },
        "outputId": "7bd4cefe-a588-4884-cb98-664fbec68be2"
      },
      "execution_count": 41,
      "outputs": [
        {
          "output_type": "stream",
          "name": "stdout",
          "text": [
            "Epoch : 0 | loss : 0.024607062339782715 | test_loss : 0.057028137147426605\n",
            "Epoch : 20 | loss : 0.017738372087478638 | test_loss : 0.040483057498931885\n",
            "Epoch : 40 | loss : 0.010873556137084961 | test_loss : 0.024624843150377274\n",
            "Epoch : 60 | loss : 0.004003198351711035 | test_loss : 0.008766645565629005\n",
            "Epoch : 80 | loss : 0.003630311693996191 | test_loss : 0.005853563547134399\n",
            "Epoch : 100 | loss : 0.003630311693996191 | test_loss : 0.005853563547134399\n",
            "Epoch : 120 | loss : 0.003630311693996191 | test_loss : 0.005853563547134399\n",
            "Epoch : 140 | loss : 0.003630311693996191 | test_loss : 0.005853563547134399\n"
          ]
        }
      ]
    },
    {
      "cell_type": "code",
      "source": [
        "model_0.state_dict()"
      ],
      "metadata": {
        "colab": {
          "base_uri": "https://localhost:8080/"
        },
        "id": "dIWbhIRVk-Qe",
        "outputId": "ed442e4f-5d96-45b6-e941-1aa1754ebf8c"
      },
      "execution_count": 35,
      "outputs": [
        {
          "output_type": "execute_result",
          "data": {
            "text/plain": [
              "OrderedDict([('linear_layer.weight', tensor([[0.5776]])),\n",
              "             ('linear_layer.bias', tensor([0.3515]))])"
            ]
          },
          "metadata": {},
          "execution_count": 35
        }
      ]
    },
    {
      "cell_type": "code",
      "source": [
        "\n",
        "model_0.to(device)\n",
        "next(model_0.parameters()).device"
      ],
      "metadata": {
        "colab": {
          "base_uri": "https://localhost:8080/"
        },
        "id": "D0ow87Wqs9MQ",
        "outputId": "01a8d1db-e55b-40cf-f788-c667b677f7ff"
      },
      "execution_count": 36,
      "outputs": [
        {
          "output_type": "execute_result",
          "data": {
            "text/plain": [
              "device(type='cpu')"
            ]
          },
          "metadata": {},
          "execution_count": 36
        }
      ]
    },
    {
      "cell_type": "code",
      "source": [
        "# loss curve\n",
        "plt.plot(epoch_count, train_loss_values, label = \"Training loss\")\n",
        "plt.plot(epoch_count, test_loss_values, label = \"Test loss\")\n",
        "plt.title(\"Loss On Training and Testing data\")\n",
        "plt.ylabel = \"Loss\"\n",
        "plt.xlabel = \"Epochs\"\n",
        "plt.legend();"
      ],
      "metadata": {
        "colab": {
          "base_uri": "https://localhost:8080/",
          "height": 452
        },
        "id": "ulKNIjNT0wkJ",
        "outputId": "005fdfad-3c39-42aa-ed33-87d0fdae6cc5"
      },
      "execution_count": 43,
      "outputs": [
        {
          "output_type": "display_data",
          "data": {
            "text/plain": [
              "<Figure size 640x480 with 1 Axes>"
            ],
            "image/png": "[encoded data removed]"
          },
          "metadata": {}
        }
      ]
    },
    {
      "cell_type": "code",
      "source": [
        "# Make prediction\n",
        "\n",
        "model_0.eval()\n",
        "with torch.inference_mode():\n",
        "  y_pred1 = model_0(X_test)\n",
        "\n",
        "y_pred1"
      ],
      "metadata": {
        "colab": {
          "base_uri": "https://localhost:8080/"
        },
        "id": "skqGJcftltwD",
        "outputId": "fbc7f7b7-b38c-4a66-b46a-889ad916a391"
      },
      "execution_count": 37,
      "outputs": [
        {
          "output_type": "execute_result",
          "data": {
            "text/plain": [
              "tensor([[0.8136],\n",
              "        [0.8251],\n",
              "        [0.8367],\n",
              "        [0.8482],\n",
              "        [0.8598],\n",
              "        [0.8713],\n",
              "        [0.8829],\n",
              "        [0.8944],\n",
              "        [0.9060],\n",
              "        [0.9175]])"
            ]
          },
          "metadata": {},
          "execution_count": 37
        }
      ]
    },
    {
      "cell_type": "code",
      "source": [
        "plot_predictions(predictions=y_pred1.cpu())"
      ],
      "metadata": {
        "colab": {
          "base_uri": "https://localhost:8080/",
          "height": 430
        },
        "id": "tSXEP0ofmarC",
        "outputId": "560b0b6e-3d35-4077-980f-780bc581de45"
      },
      "execution_count": 38,
      "outputs": [
        {
          "output_type": "display_data",
          "data": {
            "text/plain": [
              "<Figure size 640x480 with 1 Axes>"
            ],
            "image/png": "[encoded data removed]"
          },
          "metadata": {}
        }
      ]
    },
    {
      "cell_type": "markdown",
      "source": [
        "# Saving  the model"
      ],
      "metadata": {
        "id": "t2lPVKIbv2uk"
      }
    },
    {
      "cell_type": "code",
      "source": [
        "from pathlib import Path\n",
        "# create directory\n",
        "MODEL_PATH = Path(\"Models\")\n",
        "MODEL_PATH.mkdir(parents=True, exist_ok=True)\n",
        "# create the save path\n",
        "MODEL_NAME = \"model_0_pytotchflow.pth\"\n",
        "MODEL_SAVE_PATH = MODEL_PATH/MODEL_NAME\n",
        "\n",
        "# save the model state_dict\n",
        "print(f\"saving the Model: {MODEL_SAVE_PATH}\")\n",
        "torch.save(obj=model_0.state_dict(), f=MODEL_SAVE_PATH)\n"
      ],
      "metadata": {
        "colab": {
          "base_uri": "https://localhost:8080/"
        },
        "id": "7GEJlDpkuz8y",
        "outputId": "8cdeab94-f645-47c9-86d1-7e110e333ae0"
      },
      "execution_count": 39,
      "outputs": [
        {
          "output_type": "stream",
          "name": "stdout",
          "text": [
            "saving the Model: Models/model_0_pytotchflow.pth\n"
          ]
        }
      ]
    },
    {
      "cell_type": "markdown",
      "source": [
        "# Loading the state_dict() of saved model"
      ],
      "metadata": {
        "id": "V-0numHnxuzN"
      }
    },
    {
      "cell_type": "code",
      "source": [
        "# Instantiate the model\n",
        "loaded_model = LinearRegressionModel_1()\n",
        "# load the model state_dict\n",
        "loaded_model.load_state_dict(torch.load(MODEL_SAVE_PATH))\n",
        "\n",
        "# set the device\n",
        "loaded_model.to(device)\n",
        "\n",
        "print(f\"loaded model state : {loaded_model}\")\n",
        "print(f\"loaded model parameters : {next(loaded_model.parameters()).device}\")\n",
        "\n"
      ],
      "metadata": {
        "colab": {
          "base_uri": "https://localhost:8080/"
        },
        "id": "-jG4mDjexmPU",
        "outputId": "c06449cc-e352-4d9a-c359-0458bc5e3250"
      },
      "execution_count": 40,
      "outputs": [
        {
          "output_type": "stream",
          "name": "stdout",
          "text": [
            "loaded model state : LinearRegressionModel_1(\n",
            "  (linear_layer): Linear(in_features=1, out_features=1, bias=True)\n",
            ")\n",
            "loaded model parameters : cpu\n"
          ]
        }
      ]
    },
    {
      "cell_type": "code",
      "source": [],
      "metadata": {
        "id": "Nq9uDOjAzVMy"
      },
      "execution_count": 40,
      "outputs": []
    }
  ]
}